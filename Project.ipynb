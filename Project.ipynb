{
 "cells": [
  {
   "cell_type": "code",
   "execution_count": 3,
   "id": "ecdd1881-a9b9-4d62-bc47-099969920282",
   "metadata": {},
   "outputs": [],
   "source": [
    "#task 1 and 2\n",
    "#exploring dataset provided and converting it to csv file\n",
    "#loading pandas library\n",
    "#reading csv file\n",
    "import numpy as np\n",
    "import pandas as pd\n",
    "transfusion=pd.read_csv('transfusion.csv')"
   ]
  },
  {
   "cell_type": "code",
   "execution_count": 4,
   "id": "4b21c309-85de-4586-a555-755f9ba57fba",
   "metadata": {},
   "outputs": [
    {
     "data": {
      "text/html": [
       "<div>\n",
       "<style scoped>\n",
       "    .dataframe tbody tr th:only-of-type {\n",
       "        vertical-align: middle;\n",
       "    }\n",
       "\n",
       "    .dataframe tbody tr th {\n",
       "        vertical-align: top;\n",
       "    }\n",
       "\n",
       "    .dataframe thead th {\n",
       "        text-align: right;\n",
       "    }\n",
       "</style>\n",
       "<table border=\"1\" class=\"dataframe\">\n",
       "  <thead>\n",
       "    <tr style=\"text-align: right;\">\n",
       "      <th></th>\n",
       "      <th>Recency (months)</th>\n",
       "      <th>Frequency (times)</th>\n",
       "      <th>Monetary (c.c. blood)</th>\n",
       "      <th>Time (months)</th>\n",
       "      <th>whether he/she donated blood in March 2007</th>\n",
       "    </tr>\n",
       "  </thead>\n",
       "  <tbody>\n",
       "    <tr>\n",
       "      <th>0</th>\n",
       "      <td>2</td>\n",
       "      <td>50</td>\n",
       "      <td>12500</td>\n",
       "      <td>98</td>\n",
       "      <td>1</td>\n",
       "    </tr>\n",
       "    <tr>\n",
       "      <th>1</th>\n",
       "      <td>0</td>\n",
       "      <td>13</td>\n",
       "      <td>3250</td>\n",
       "      <td>28</td>\n",
       "      <td>1</td>\n",
       "    </tr>\n",
       "    <tr>\n",
       "      <th>2</th>\n",
       "      <td>1</td>\n",
       "      <td>16</td>\n",
       "      <td>4000</td>\n",
       "      <td>35</td>\n",
       "      <td>1</td>\n",
       "    </tr>\n",
       "    <tr>\n",
       "      <th>3</th>\n",
       "      <td>2</td>\n",
       "      <td>20</td>\n",
       "      <td>5000</td>\n",
       "      <td>45</td>\n",
       "      <td>1</td>\n",
       "    </tr>\n",
       "    <tr>\n",
       "      <th>4</th>\n",
       "      <td>1</td>\n",
       "      <td>24</td>\n",
       "      <td>6000</td>\n",
       "      <td>77</td>\n",
       "      <td>0</td>\n",
       "    </tr>\n",
       "  </tbody>\n",
       "</table>\n",
       "</div>"
      ],
      "text/plain": [
       "   Recency (months)  Frequency (times)  Monetary (c.c. blood)  Time (months)  \\\n",
       "0                 2                 50                  12500             98   \n",
       "1                 0                 13                   3250             28   \n",
       "2                 1                 16                   4000             35   \n",
       "3                 2                 20                   5000             45   \n",
       "4                 1                 24                   6000             77   \n",
       "\n",
       "   whether he/she donated blood in March 2007  \n",
       "0                                           1  \n",
       "1                                           1  \n",
       "2                                           1  \n",
       "3                                           1  \n",
       "4                                           0  "
      ]
     },
     "execution_count": 4,
     "metadata": {},
     "output_type": "execute_result"
    }
   ],
   "source": [
    "#printing first 5 lines from dataset\n",
    "\n",
    "transfusion.head()"
   ]
  },
  {
   "cell_type": "code",
   "execution_count": 5,
   "id": "9a9af4b1-d68d-4b2b-a513-b5a55016bcaa",
   "metadata": {},
   "outputs": [
    {
     "name": "stdout",
     "output_type": "stream",
     "text": [
      "<class 'pandas.core.frame.DataFrame'>\n",
      "RangeIndex: 748 entries, 0 to 747\n",
      "Data columns (total 5 columns):\n",
      " #   Column                                      Non-Null Count  Dtype\n",
      "---  ------                                      --------------  -----\n",
      " 0   Recency (months)                            748 non-null    int64\n",
      " 1   Frequency (times)                           748 non-null    int64\n",
      " 2   Monetary (c.c. blood)                       748 non-null    int64\n",
      " 3   Time (months)                               748 non-null    int64\n",
      " 4   whether he/she donated blood in March 2007  748 non-null    int64\n",
      "dtypes: int64(5)\n",
      "memory usage: 29.3 KB\n"
     ]
    }
   ],
   "source": [
    "#task 3\n",
    "#inspecting dataset structure\n",
    "\n",
    "transfusion.info()\n"
   ]
  },
  {
   "cell_type": "code",
   "execution_count": 6,
   "id": "952247fa-cf43-47b5-b968-4fe31d20dcde",
   "metadata": {},
   "outputs": [
    {
     "data": {
      "text/html": [
       "<div>\n",
       "<style scoped>\n",
       "    .dataframe tbody tr th:only-of-type {\n",
       "        vertical-align: middle;\n",
       "    }\n",
       "\n",
       "    .dataframe tbody tr th {\n",
       "        vertical-align: top;\n",
       "    }\n",
       "\n",
       "    .dataframe thead th {\n",
       "        text-align: right;\n",
       "    }\n",
       "</style>\n",
       "<table border=\"1\" class=\"dataframe\">\n",
       "  <thead>\n",
       "    <tr style=\"text-align: right;\">\n",
       "      <th></th>\n",
       "      <th>Recency (months)</th>\n",
       "      <th>Frequency (times)</th>\n",
       "      <th>Monetary (c.c. blood)</th>\n",
       "      <th>Time (months)</th>\n",
       "      <th>target</th>\n",
       "    </tr>\n",
       "  </thead>\n",
       "  <tbody>\n",
       "    <tr>\n",
       "      <th>0</th>\n",
       "      <td>2</td>\n",
       "      <td>50</td>\n",
       "      <td>12500</td>\n",
       "      <td>98</td>\n",
       "      <td>1</td>\n",
       "    </tr>\n",
       "    <tr>\n",
       "      <th>1</th>\n",
       "      <td>0</td>\n",
       "      <td>13</td>\n",
       "      <td>3250</td>\n",
       "      <td>28</td>\n",
       "      <td>1</td>\n",
       "    </tr>\n",
       "  </tbody>\n",
       "</table>\n",
       "</div>"
      ],
      "text/plain": [
       "   Recency (months)  Frequency (times)  Monetary (c.c. blood)  Time (months)  \\\n",
       "0                 2                 50                  12500             98   \n",
       "1                 0                 13                   3250             28   \n",
       "\n",
       "   target  \n",
       "0       1  \n",
       "1       1  "
      ]
     },
     "execution_count": 6,
     "metadata": {},
     "output_type": "execute_result"
    }
   ],
   "source": [
    "#task 4 \n",
    "#renaming a column and viewing first 2 rows\n",
    "\n",
    "transfusion.rename(columns={\"whether he/she donated blood in March 2007\":\"target\"},inplace=True)\n",
    "\n",
    "transfusion.head(2)"
   ]
  },
  {
   "cell_type": "code",
   "execution_count": 7,
   "id": "c1eac333-d281-4815-aac6-cff38ffac77f",
   "metadata": {},
   "outputs": [
    {
     "data": {
      "text/plain": [
       "0    0.762\n",
       "1    0.238\n",
       "Name: target, dtype: float64"
      ]
     },
     "execution_count": 7,
     "metadata": {},
     "output_type": "execute_result"
    }
   ],
   "source": [
    "#task 5\n",
    "#print target incidence and unique values\n",
    "#rounded to 3 decimal values\n",
    "\n",
    "transfusion['target'].value_counts(normalize=True).round(3)"
   ]
  },
  {
   "cell_type": "code",
   "execution_count": 8,
   "id": "4dd9d6d3-6327-498e-b2f8-d855de265934",
   "metadata": {},
   "outputs": [
    {
     "data": {
      "text/html": [
       "<div>\n",
       "<style scoped>\n",
       "    .dataframe tbody tr th:only-of-type {\n",
       "        vertical-align: middle;\n",
       "    }\n",
       "\n",
       "    .dataframe tbody tr th {\n",
       "        vertical-align: top;\n",
       "    }\n",
       "\n",
       "    .dataframe thead th {\n",
       "        text-align: right;\n",
       "    }\n",
       "</style>\n",
       "<table border=\"1\" class=\"dataframe\">\n",
       "  <thead>\n",
       "    <tr style=\"text-align: right;\">\n",
       "      <th></th>\n",
       "      <th>Recency (months)</th>\n",
       "      <th>Frequency (times)</th>\n",
       "      <th>Monetary (c.c. blood)</th>\n",
       "      <th>Time (months)</th>\n",
       "    </tr>\n",
       "  </thead>\n",
       "  <tbody>\n",
       "    <tr>\n",
       "      <th>529</th>\n",
       "      <td>2</td>\n",
       "      <td>6</td>\n",
       "      <td>1500</td>\n",
       "      <td>22</td>\n",
       "    </tr>\n",
       "    <tr>\n",
       "      <th>271</th>\n",
       "      <td>16</td>\n",
       "      <td>7</td>\n",
       "      <td>1750</td>\n",
       "      <td>28</td>\n",
       "    </tr>\n",
       "  </tbody>\n",
       "</table>\n",
       "</div>"
      ],
      "text/plain": [
       "     Recency (months)  Frequency (times)  Monetary (c.c. blood)  Time (months)\n",
       "529                 2                  6                   1500             22\n",
       "271                16                  7                   1750             28"
      ]
     },
     "execution_count": 8,
     "metadata": {},
     "output_type": "execute_result"
    }
   ],
   "source": [
    "#task 6 \n",
    "#spliting data into train and test sets using sklearn\n",
    "#printing first 2rows of x_train set\n",
    "\n",
    "from sklearn.model_selection import train_test_split\n",
    "X=transfusion.iloc[:,:-1]\n",
    "y=transfusion.iloc[:,-1]\n",
    "X_train, X_test, y_train, y_test = train_test_split(X, y, test_size=0.2, random_state=42,stratify=y)\n",
    "X_train.head(2)"
   ]
  },
  {
   "cell_type": "code",
   "execution_count": 9,
   "id": "4d789ce2-edfd-4f2d-860a-e469d822f440",
   "metadata": {},
   "outputs": [
    {
     "name": "stderr",
     "output_type": "stream",
     "text": [
      "C:\\Users\\Ravi Sharma\\AppData\\Local\\Programs\\Python\\Python310\\lib\\site-packages\\tpot\\builtins\\__init__.py:36: UserWarning: Warning: optional dependency `torch` is not available. - skipping import of NN models.\n",
      "  warnings.warn(\"Warning: optional dependency `torch` is not available. - skipping import of NN models.\")\n"
     ]
    },
    {
     "name": "stdout",
     "output_type": "stream",
     "text": [
      "tpot_auc_score: 0.5424\n",
      "\n",
      "Best pipeline steps:\n",
      "Step 0: ('zerocount', ZeroCount())\n",
      "Step 1: ('stackingestimator', StackingEstimator(estimator=GaussianNB()))\n",
      "Step 2: ('logisticregression', LogisticRegression(C=0.01, random_state=42))\n"
     ]
    }
   ],
   "source": [
    "#task 7\n",
    "#importing necessary libraries\n",
    "\n",
    "from tpot import TPOTClassifier\n",
    "from sklearn.metrics import roc_auc_score\n",
    "from sklearn.model_selection import train_test_split\n",
    "from sklearn.datasets import load_digits\n",
    "\n",
    "# Create an instance of TPOTClassifier with light configuration\n",
    "tpot = TPOTClassifier( \n",
    "    generations=5, \n",
    "    population_size=20, \n",
    "    random_state=42, \n",
    "    scoring='roc_auc',  # Optimize for ROC AUC score\n",
    "    config_dict='TPOT light'  # Use TPOT's light configuration with fast models and preprocessors\n",
    ")\n",
    "\n",
    "# Fit the model to the training data\n",
    "tpot.fit(X_train, y_train)\n",
    "\n",
    "# Predict using the fitted model\n",
    "y_pred = tpot.predict(X_test)\n",
    "\n",
    "# Calculate and print the AUC score, rounded to 4 decimal places\n",
    "tpot_auc_score = roc_auc_score(y_test, y_pred)\n",
    "print(f\"tpot_auc_score: {tpot_auc_score:.4f}\")\n",
    "\n",
    "# Print the pipeline steps\n",
    "print(\"\\nBest pipeline steps:\")\n",
    "for idx, step in enumerate(tpot.fitted_pipeline_.steps):\n",
    "    print(f\"Step {idx}: {step}\")"
   ]
  },
  {
   "cell_type": "code",
   "execution_count": 10,
   "id": "9f47a54f-0d49-4361-8976-1b5b5eb1dd17",
   "metadata": {},
   "outputs": [
    {
     "name": "stdout",
     "output_type": "stream",
     "text": [
      "Recency (months)              67.473\n",
      "Frequency (times)             32.624\n",
      "Monetary (c.c. blood)    2039028.756\n",
      "Time (months)                599.952\n",
      "dtype: float64\n"
     ]
    }
   ],
   "source": [
    "#task 8\n",
    "#Print X_train's variance\n",
    "\n",
    "X_train_variance = X_train.var().round(3)\n",
    "\n",
    "# Print the column-wise variance rounded to 3 decimal places\n",
    "print(X_train_variance)"
   ]
  },
  {
   "cell_type": "code",
   "execution_count": 11,
   "id": "d0035c9f-5a89-42f7-891e-8b97d3acc768",
   "metadata": {},
   "outputs": [
    {
     "name": "stdout",
     "output_type": "stream",
     "text": [
      "Recency (months)      67.473\n",
      "Frequency (times)     32.624\n",
      "Time (months)        599.952\n",
      "dtype: float64\n"
     ]
    }
   ],
   "source": [
    "#task 9\n",
    "\n",
    "# Copy X_train and X_test into new DataFrames\n",
    "X_train_normed = X_train.copy()\n",
    "X_test_normed = X_test.copy()\n",
    "\n",
    "# Calculate variance for each column in X_train\n",
    "variances = X_train.var()\n",
    "\n",
    "# Find the column with the highest variance\n",
    "col_to_normalize = variances.idxmax()\n",
    "\n",
    "## Normalize the column with the highest variance \n",
    "for df in [X_train_normed, X_test_normed]:\n",
    "    df[col_to_normalize] = np.log(df[col_to_normalize])\n",
    "\n",
    "# Drop the column with the highest variance\n",
    "X_train_normed = X_train_normed.drop(columns=[col_to_normalize])\n",
    "X_test_normed = X_test_normed.drop(columns=[col_to_normalize])\n",
    "\n",
    "# Print the variance of X_train_normed (rounded to 3 decimal places)\n",
    "print(X_train_normed.var().round(3))"
   ]
  },
  {
   "cell_type": "code",
   "execution_count": 12,
   "id": "d09a8aae-8531-41c3-850c-5fa6df54ca6b",
   "metadata": {},
   "outputs": [
    {
     "name": "stdout",
     "output_type": "stream",
     "text": [
      "logreg_auc_score: 0.5423976608187135\n"
     ]
    }
   ],
   "source": [
    "#task 10\n",
    "\n",
    "from sklearn.linear_model import LogisticRegression\n",
    "from sklearn.metrics import roc_auc_score\n",
    "\n",
    "logreg=LogisticRegression(random_state=42)\n",
    "\n",
    "#train the logistic regression model\n",
    "logreg.fit(X_train,y_train)\n",
    "\n",
    "#predict using trained model\n",
    "y_pred=logreg.predict(X_test)\n",
    "\n",
    "#calculate and print AUC score\n",
    "score=roc_auc_score(y_test,y_pred)\n",
    "print(f\"logreg_auc_score: {score:}\")"
   ]
  },
  {
   "cell_type": "code",
   "execution_count": 13,
   "id": "e038eff6-6624-438b-b6a6-a66295fbd7df",
   "metadata": {},
   "outputs": [
    {
     "name": "stdout",
     "output_type": "stream",
     "text": [
      "TPOT Model: AUC Score = 0.5423976608187135\n",
      "Logistic Regression: AUC Score = 0.5423976608187135\n"
     ]
    }
   ],
   "source": [
    "#task 11\n",
    "\n",
    "from operator import itemgetter\n",
    "from sklearn.metrics import roc_auc_score\n",
    "\n",
    "models = [\n",
    "    (\"TPOT Model\", tpot_auc_score),\n",
    "    (\"Logistic Regression\", score)\n",
    "]\n",
    "\n",
    "# Sort the list of (model_name, model_score) pairs based on AUC score from highest to lowest\n",
    "sorted_models = sorted(models, key=itemgetter(1), reverse=True)\n",
    "\n",
    "# Print sorted models and their AUC scores\n",
    "for model_name, model_score in sorted_models:\n",
    "    print(f\"{model_name}: AUC Score = {model_score:}\")"
   ]
  },
  {
   "cell_type": "code",
   "execution_count": null,
   "id": "793f7c6f-0cfc-4bac-acb1-3c0f743c6531",
   "metadata": {},
   "outputs": [],
   "source": []
  }
 ],
 "metadata": {
  "kernelspec": {
   "display_name": "Python 3 (ipykernel)",
   "language": "python",
   "name": "python3"
  },
  "language_info": {
   "codemirror_mode": {
    "name": "ipython",
    "version": 3
   },
   "file_extension": ".py",
   "mimetype": "text/x-python",
   "name": "python",
   "nbconvert_exporter": "python",
   "pygments_lexer": "ipython3",
   "version": "3.10.5"
  }
 },
 "nbformat": 4,
 "nbformat_minor": 5
}
